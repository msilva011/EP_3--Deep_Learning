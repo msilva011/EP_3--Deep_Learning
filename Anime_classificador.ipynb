{
 "cells": [
  {
   "cell_type": "code",
   "execution_count": null,
   "id": "1c4018d9",
   "metadata": {},
   "outputs": [],
   "source": [
    "from kaggle.api.kaggle_api_extended import KaggleApi\n",
    "import os\n",
    "\n",
    "api = KaggleApi()\n",
    "api.authenticate()"
   ]
  },
  {
   "cell_type": "code",
   "execution_count": 3,
   "id": "4b98419e",
   "metadata": {},
   "outputs": [],
   "source": [
    "DATA_DIR = 'data'\n",
    "if not os.path.exists(DATA_DIR):\n",
    "    os.makedirs(DATA_DIR)\n",
    "\n",
    "api.dataset_download_files('diraizel/anime-images-dataset', path=DATA_DIR, unzip=True)"
   ]
  },
  {
   "cell_type": "code",
   "execution_count": 4,
   "id": "77a47951",
   "metadata": {},
   "outputs": [
    {
     "name": "stdout",
     "output_type": "stream",
     "text": [
      "['A Lull in the Sea', 'A Place Further Than The Universe', 'A Silent Voice', 'AKIRA', 'Ace of Diamond', 'Akatsuki no Yona', 'Angel Beats!', 'Aria The Natural', 'Aria The Origination', 'Assassination Classroom', 'Attack on Titan', 'Baccano!', 'Bakemonogatari', 'Bakuman', 'Barakamon', 'Beck Mongolian Chop Squad', 'Berserk', 'Big Windup!', 'Black Butler', 'Black Lagoon', 'Bunny Drop', 'Cardcaptor Sakura', 'Carpcaptor Sakura', 'Castle in the Sky', 'Chihayafuru', 'Clannad', 'Code Geass', 'Cross Game', 'D.Gray-man', 'DARLING in the FRANXX', 'Daily Lives of High School Boys', 'Darker than Black', 'Death Note', 'Death Parade', 'Den-noh Coil', 'Descending Stories Showa Genroku Rakugo Shinju', 'Detective Conan', 'Detroit Metal City The Animated Series', 'Dragon Ball', 'Dragon Ball Z', 'Durarara', 'Durarara!!', 'ERASED', 'Erin', 'Eureka Seven', 'FateZero', 'Fatestay night', 'Fighting Spirit Special', 'From the New World', 'Full Metal Panic', 'Fullmetal Alchemist Brotherhood', 'Gankutsuou The Count of Monte Cristo', 'Ghost in the Shell', 'Gintama', 'Girls Last Tour', 'Girls und Panzer', 'Glass Mask', 'Gosick', 'Grave of the Fireflies', 'Great Teacher Onizuka', 'Gurren Lagann', 'Haikyu!!', 'Hajime no Ippo', 'Hellsing Ultimate', 'Higurashi When they cry', 'Hikaru no Go', 'Historys strongest disciple Kenichi', 'Honey and Clover', 'Hotarubi no Mori e', 'Howls Moving Castle', 'Hunter x Hunter', 'Hyouka', 'In This Corner of the World', 'Initial D', 'Interstella5555 The 5tory of The 5ecret 5tar 5ystem', 'InuYasha The Final Act', 'Jojos Bizarre Adventure', 'Junjo Romantica', 'KILL la KILL', 'Kaiba', 'Kaiji Ultimate Survivor', 'Kamisama Hajimemashita', 'Kamisama Hajimemashita Kamisama, Shiawase ni Naru', 'Kamisama Kiss', 'Katanagatari', 'Kids on the Slope', 'Kikis Delivery Service', 'Kingdom', 'Kinos Journey', 'Kizumonogatari', 'Kizumonogatari III Reiketsu-hen', 'Kodocha', 'KonoSuba', 'Kurokos Basketball', 'La Maison en Petits Cubes', 'Laid-Back Camp', 'Land of the Lustrous', 'Legend of the Galactic Heroes', 'Little Busters! ~Refrain~', 'Lovely Complex', 'Made in Abyss', 'Magi The Kingdom of Magic', 'Magi The Labyrinth of Magic', 'Maid Sama!', 'Maison Ikkoku', 'Major', 'Major S5', 'Major World Series', 'March comes in like a lion', 'Megalo Box', 'Millennium Actress', 'Miss Kobayashis Dragon Maid', 'Mob Psycho 100', 'Mobile Suit Gundam', 'Mononoke', 'Monster', 'Monthly Girls Nozaki-kun', 'Moribito - Guardian of the Spirit', 'Mr. Osomatsu', 'Mushishi', 'My Hero Academia', 'My Neighbor Totoro', 'My Teen Romantic Comedy', 'My Teen Romantic Comedy SNAFU', 'Nana', 'Nanatsu no Taizai', 'Naruto', 'Natsume Yuujinchou', 'Nausica� of the Valley of the Wind', 'Neon Genesis Evangelion', 'Nichijou', 'Night Is Short, Walk on Girl', 'Nisemonogatari', 'No Game No Life', 'No Game, No Life', 'Nodame Cantabile', 'Non Non Biyori Repeat', 'Noragami', 'Noragami Aragoto', 'One Outs', 'One Piece', 'One Punch Man', 'Ouran High School Host Club', 'Owarimonogatari', 'Parasyte', 'Patema Inverted', 'Perfect Blue', 'Ping Pong the Animation', 'Pingu in the City', 'Planetes', 'Princess Jellyfish', 'Princess Mononoke', 'Princess Tutu', 'Psycho-Pass', 'Puella Magi Madoka Magica', 'Rainbow', 'ReLife', 'ReZero', 'Reborn!', 'Redline', 'Revolutionary Girl Utena', 'Rocky Joe 2', 'Romeo and the Black Brothers', 'Rurouni Kenshin', 'SKET Dance', 'Sain Seiya', 'Saint Seiya', 'Samurai Champloo', 'Samurai X', 'Sayonara no Asa ni Yakusoku no Hana wo Kazarou', 'Sekai Ichi Hatsukoi', 'Sekaiichi Hatsukoi', 'Shelter', 'Shirobako', 'Shokugeki no Souma', 'Showa Genroku Rakugo Shinju', 'Silver Spoon', 'Skip Beat!', 'Slam Dunk', 'Sound! Euphonium', 'Space Brothers', 'Spice and Wolf', 'Spirited Away', 'Star Blazers 2199', 'Steins Gate', 'Summer Wars', 'Sword of the Stranger', 'Terror in Resonance', 'The Ancient Magus Bride', 'The Anthem of the Heart', 'The Boy and the Beast', 'The Disappearance of Haruhi Suzumiya', 'The Disastrous Life of Saiki K', 'The Eccentric Family', 'The Garden of Sinners', 'The Garden of Words', 'The Girl Who Leapt Through Time', 'The Pet Girl of Sakurasou', 'The Rose of Versailles', 'The Seven Deadly Sins', 'The Shadow that Devours the Sun', 'The Tale of the Princess Kaguya', 'The Tatami Galaxy', 'The World God Only Knows', 'Time of Eve', 'Tokyo Godfathers', 'Tokyo Magnitude 8.0', 'Tomorrows Joe', 'Toradora!', 'Trigun', 'Tsuabasa', 'Tsukigakirei', 'Tsukimonogatari', 'Violet Evergarden', 'Welcome to the Ballroom', 'Welcome to the N.H.K', 'When Marnie Was There', 'Whisper of the Heart', 'Wolf Children', 'Working!!! Lord of the Takanashi', 'Yona of the Dawn', 'Your Lie in April', 'Your Name', 'Yowamushi Pedal', 'Yu Yu Hakusho', 'Yuri!!! On ICE', 'Yuuki Yuuna wa Yuusha de Aru Washio Sumi no Shou 2 - Tamashii', 'anohana The Flower We Saw That Day', 'cowboy bebop', 'xxxHOLiC', 'xxxHOLiC Kei']\n"
     ]
    }
   ],
   "source": [
    "DATA_DIR   = 'data/data/anime_images'\n",
    "TARGET_DIR = 'data/10_animes'\n",
    "\n",
    "import shutil, os\n",
    "os.makedirs(TARGET_DIR, exist_ok=True)\n",
    "\n",
    "all_animes = sorted(os.listdir(DATA_DIR))\n",
    "print(all_animes) "
   ]
  },
  {
   "cell_type": "code",
   "execution_count": null,
   "id": "29a20365",
   "metadata": {},
   "outputs": [],
   "source": [
    "selected = [\n",
    "    'AKIRA',\n",
    "    'Attack on Titan',\n",
    "    'Cardcaptor Sakura',\n",
    "    'Fullmetal Alchemist Brotherhood',\n",
    "    'Dragon Ball Z',\n",
    "    'Death Note',\n",
    "    'Haikyu!!',\n",
    "    'My Hero Academia',\n",
    "    'Hunter x Hunter',\n",
    "    'Nana',\n",
    "    'Nanatsu no Taizai',\n",
    "    'Naruto',\n",
    "    'Yu Yu Hakusho',\n",
    "    'Your Name',\n",
    "    'Violet Evergarden',\n",
    "    'One Piece',\n",
    "]\n",
    "\n",
    "DATA_DIR   = 'data/data/anime_images'\n",
    "TARGET_DIR = 'data/16_animes'  \n",
    "\n",
    "os.makedirs(TARGET_DIR, exist_ok=True)\n",
    "\n",
    "for anime in selected:\n",
    "    src = os.path.join(DATA_DIR, anime)\n",
    "    dst = os.path.join(TARGET_DIR, anime)\n",
    "    shutil.copytree(src, dst)\n"
   ]
  },
  {
   "cell_type": "code",
   "execution_count": null,
   "id": "e074fe28",
   "metadata": {},
   "outputs": [],
   "source": [
    "import tensorflow as tf\n",
    "print(tf.__version__)                      \n",
    "from tensorflow.keras.preprocessing.image import ImageDataGenerator\n"
   ]
  },
  {
   "cell_type": "code",
   "execution_count": null,
   "id": "37cf33ed",
   "metadata": {},
   "outputs": [],
   "source": [
    "IMG_SIZE = (128, 128)\n",
    "BATCH_SIZE = 32\n",
    "\n",
    "train_datagen = ImageDataGenerator(\n",
    "    rescale=1./255,\n",
    "    validation_split=0.2,\n",
    "    rotation_range=20,\n",
    "    width_shift_range=0.2,\n",
    "    height_shift_range=0.2,\n",
    "    horizontal_flip=True\n",
    ")\n",
    "\n",
    "train_gen = train_datagen.flow_from_directory(\n",
    "    'data/16_animes',\n",
    "    target_size=IMG_SIZE,\n",
    "    batch_size=BATCH_SIZE,\n",
    "    class_mode='categorical',\n",
    "    subset='training'\n",
    ")\n",
    "\n",
    "val_gen = train_datagen.flow_from_directory(\n",
    "    'data/16_animes',\n",
    "    target_size=IMG_SIZE,\n",
    "    batch_size=BATCH_SIZE,\n",
    "    class_mode='categorical',\n",
    "    subset='validation'\n",
    ")"
   ]
  }
 ],
 "metadata": {
  "kernelspec": {
   "display_name": "Python 3",
   "language": "python",
   "name": "python3"
  },
  "language_info": {
   "codemirror_mode": {
    "name": "ipython",
    "version": 3
   },
   "file_extension": ".py",
   "mimetype": "text/x-python",
   "name": "python",
   "nbconvert_exporter": "python",
   "pygments_lexer": "ipython3",
   "version": "3.10.3"
  }
 },
 "nbformat": 4,
 "nbformat_minor": 5
}
